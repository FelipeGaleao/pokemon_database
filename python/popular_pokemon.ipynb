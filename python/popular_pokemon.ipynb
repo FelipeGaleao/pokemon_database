{
 "cells": [
  {
   "cell_type": "code",
   "execution_count": null,
   "metadata": {},
   "outputs": [],
   "source": []
  }
 ],
 "metadata": {
  "kernelspec": {
   "display_name": "Python 3.8.12 ('bdgd')",
   "language": "python",
   "name": "python3"
  },
  "language_info": {
   "name": "python",
   "version": "3.8.12"
  },
  "orig_nbformat": 4,
  "vscode": {
   "interpreter": {
    "hash": "1132fa133f11760a0b7447f113394b2ac39a9f5e24667e342cf1efea777769e2"
   }
  }
 },
 "nbformat": 4,
 "nbformat_minor": 2
}

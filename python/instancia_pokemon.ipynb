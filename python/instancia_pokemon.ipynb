{
 "cells": [
  {
   "cell_type": "code",
   "execution_count": 3,
   "metadata": {},
   "outputs": [
    {
     "name": "stdout",
     "output_type": "stream",
     "text": [
      "Requirement already satisfied: pokebase in /home/vareiro/anaconda3/lib/python3.9/site-packages (1.3.0)\n",
      "Requirement already satisfied: requests in /home/vareiro/anaconda3/lib/python3.9/site-packages (from pokebase) (2.10.0)\n",
      "Note: you may need to restart the kernel to use updated packages.\n"
     ]
    }
   ],
   "source": [
    "pip install pokebase"
   ]
  },
  {
   "cell_type": "code",
   "execution_count": 5,
   "metadata": {},
   "outputs": [],
   "source": [
    "import pokebase as pb\n",
    "import pandas as pd\n",
    "\n",
    "instancias = []\n",
    "instancias_df = pd.DataFrame()\n",
    "array = [16,21,39,84]\n",
    "index = 0\n",
    "for i in range(129):\n",
    "  for k in range(4):\n",
    "    instancias.append([array[k],index])\n",
    "    index+=1\n",
    "instancias_df = pd.DataFrame(instancias, columns=[\"fk_pokemon_numero_pokedex\",\"fk_pokebola_id\"]).to_csv('../output_data/instancias_atualizada.csv')\n"
   ]
  }
 ],
 "metadata": {
  "kernelspec": {
   "display_name": "Python 3.9.13 ('base')",
   "language": "python",
   "name": "python3"
  },
  "language_info": {
   "codemirror_mode": {
    "name": "ipython",
    "version": 3
   },
   "file_extension": ".py",
   "mimetype": "text/x-python",
   "name": "python",
   "nbconvert_exporter": "python",
   "pygments_lexer": "ipython3",
   "version": "3.9.13"
  },
  "orig_nbformat": 4,
  "vscode": {
   "interpreter": {
    "hash": "0650c0f217e10720e4bf7be691c6745308372cccadf60d207cb77e2b1e689b1b"
   }
  }
 },
 "nbformat": 4,
 "nbformat_minor": 2
}

{
 "cells": [
  {
   "cell_type": "code",
   "execution_count": 153,
   "metadata": {},
   "outputs": [
    {
     "name": "stdout",
     "output_type": "stream",
     "text": [
      "Requirement already satisfied: pokebase in /home/vareiro/anaconda3/lib/python3.9/site-packages (1.3.0)\n",
      "Requirement already satisfied: requests in /home/vareiro/anaconda3/lib/python3.9/site-packages (from pokebase) (2.10.0)\n",
      "Note: you may need to restart the kernel to use updated packages.\n"
     ]
    }
   ],
   "source": [
    "pip install pokebase"
   ]
  },
  {
   "cell_type": "code",
   "execution_count": 154,
   "metadata": {},
   "outputs": [
    {
     "name": "stdout",
     "output_type": "stream",
     "text": [
      "bulbasaur\n"
     ]
    }
   ],
   "source": [
    "import pokebase as pb\n",
    "import json\n",
    "import requests\n",
    "r = requests.get(\"https://pokeapi.co/api/v2/evolution-chain/1\").text\n",
    "j = json.loads(r)\n",
    "print(j[\"chain\"][\"species\"][\"name\"])\n",
    "\n",
    "def get_evo(url):\n",
    "  req = requests.get(url).text\n",
    "  j = json.loads(req)\n",
    "  evos = [j[\"chain\"][\"species\"][\"name\"]]\n",
    "  try:\n",
    "    evos.append(j[\"chain\"][\"evolves_to\"][0][\"species\"][\"name\"])\n",
    "    evos.append(j[\"chain\"][\"evolves_to\"][0][\"evolves_to\"][0][\"species\"][\"name\"])\n",
    "  except:\n",
    "    try: evos.append(j[\"chain\"][\"evolves_to\"][0][\"species\"][\"name\"])\n",
    "    except:\n",
    "        pass\n",
    "  return list(dict.fromkeys(evos))"
   ]
  },
  {
   "cell_type": "code",
   "execution_count": 155,
   "metadata": {},
   "outputs": [
    {
     "name": "stdout",
     "output_type": "stream",
     "text": [
      "['bulbasaur', 'ivysaur', 'venusaur']\n"
     ]
    }
   ],
   "source": [
    "print(get_evo(\"https://pokeapi.co/api/v2/evolution-chain/1\"))"
   ]
  },
  {
   "cell_type": "code",
   "execution_count": null,
   "metadata": {},
   "outputs": [],
   "source": [
    "\n"
   ]
  },
  {
   "cell_type": "code",
   "execution_count": 156,
   "metadata": {},
   "outputs": [],
   "source": [
    "import pandas as pd\n",
    "\n",
    "evos = []\n",
    "evos_df = pd.DataFrame()\n",
    "def persist_evo(array):\n",
    "  print(\"len \" + str(len(array)))\n",
    "  if(len(array)==1):\n",
    "    evos.append([pb.pokemon(array[0]).id,\"null\"])\n",
    "  for poke_name in range(len(array)):\n",
    "    if(poke_name == len(array)-1):\n",
    "      evos.append([pb.pokemon(array[poke_name]).id,\"null\"])\n",
    "    else:\n",
    "      evos.append([pb.pokemon(array[poke_name]).id,pb.pokemon(array[poke_name+1]).id])\n",
    "  return pd.DataFrame(evos, columns=[\"ndex_atual\",\"ndex_evolucao\"]).to_csv('../output_data/evolucao.csv')\n",
    "  #return pd.DataFrame(evos, columns=[\"ndex_atual\",\"ndex_evolucao\"])"
   ]
  },
  {
   "cell_type": "code",
   "execution_count": 157,
   "metadata": {},
   "outputs": [
    {
     "data": {
      "text/plain": [
       "[]"
      ]
     },
     "execution_count": 157,
     "metadata": {},
     "output_type": "execute_result"
    }
   ],
   "source": [
    "evos"
   ]
  },
  {
   "cell_type": "code",
   "execution_count": 158,
   "metadata": {},
   "outputs": [],
   "source": [
    "#persist_evo(get_evo(\"https://pokeapi.co/api/v2/evolution-chain/1\"))\n",
    "#get_evo(\"https://pokeapi.co/api/v2/evolution-chain/1\")"
   ]
  },
  {
   "cell_type": "code",
   "execution_count": 159,
   "metadata": {},
   "outputs": [
    {
     "name": "stdout",
     "output_type": "stream",
     "text": [
      "1\n",
      "len 3\n",
      "2\n",
      "len 3\n",
      "3\n",
      "len 3\n",
      "4\n",
      "len 3\n",
      "5\n",
      "len 3\n",
      "6\n",
      "len 3\n",
      "7\n",
      "len 2\n",
      "8\n",
      "len 2\n",
      "9\n",
      "len 2\n",
      "10\n",
      "len 3\n",
      "11\n",
      "len 2\n",
      "12\n",
      "len 3\n",
      "13\n",
      "len 3\n",
      "14\n",
      "len 3\n",
      "15\n",
      "len 2\n",
      "16\n",
      "len 3\n",
      "17\n",
      "len 3\n",
      "18\n",
      "len 3\n",
      "19\n",
      "len 2\n",
      "20\n",
      "len 2\n",
      "21\n",
      "len 2\n",
      "22\n",
      "len 2\n",
      "23\n",
      "len 2\n",
      "24\n",
      "len 2\n",
      "25\n",
      "len 2\n",
      "26\n",
      "len 3\n",
      "27\n",
      "len 3\n",
      "28\n",
      "len 3\n",
      "29\n",
      "len 3\n",
      "30\n",
      "len 2\n",
      "31\n",
      "len 3\n",
      "32\n",
      "len 2\n",
      "33\n",
      "len 2\n",
      "34\n",
      "len 3\n",
      "35\n",
      "len 2\n",
      "36\n",
      "len 2\n",
      "37\n",
      "len 2\n",
      "38\n",
      "len 2\n",
      "39\n",
      "len 2\n",
      "40\n",
      "len 3\n",
      "41\n",
      "len 2\n",
      "42\n",
      "len 2\n",
      "43\n",
      "len 2\n",
      "44\n",
      "len 2\n",
      "45\n",
      "len 2\n",
      "46\n",
      "len 2\n",
      "47\n",
      "len 2\n",
      "48\n",
      "len 2\n",
      "49\n",
      "len 2\n",
      "50\n",
      "len 3\n",
      "51\n",
      "len 3\n",
      "52\n",
      "len 2\n",
      "53\n",
      "len 1\n",
      "54\n",
      "len 3\n",
      "55\n",
      "len 2\n",
      "56\n",
      "len 2\n",
      "57\n",
      "len 3\n",
      "58\n",
      "len 2\n",
      "59\n",
      "len 2\n",
      "60\n",
      "len 3\n",
      "61\n",
      "len 3\n",
      "62\n",
      "len 1\n",
      "63\n",
      "len 1\n",
      "64\n",
      "len 2\n",
      "65\n",
      "len 1\n",
      "66\n",
      "len 1\n",
      "67\n",
      "len 2\n",
      "68\n",
      "len 3\n",
      "69\n",
      "len 2\n",
      "70\n",
      "len 2\n",
      "71\n",
      "len 1\n",
      "72\n",
      "len 2\n",
      "73\n",
      "len 1\n",
      "74\n",
      "len 1\n",
      "75\n",
      "len 1\n",
      "76\n",
      "len 3\n",
      "77\n",
      "len 1\n",
      "78\n",
      "len 1\n"
     ]
    }
   ],
   "source": [
    "for i in range(1,79):\n",
    "  print(i)\n",
    "  persist_evo(get_evo(\"https://pokeapi.co/api/v2/evolution-chain/\"+str(i)))"
   ]
  }
 ],
 "metadata": {
  "kernelspec": {
   "display_name": "Python 3.9.13 ('base')",
   "language": "python",
   "name": "python3"
  },
  "language_info": {
   "codemirror_mode": {
    "name": "ipython",
    "version": 3
   },
   "file_extension": ".py",
   "mimetype": "text/x-python",
   "name": "python",
   "nbconvert_exporter": "python",
   "pygments_lexer": "ipython3",
   "version": "3.9.13"
  },
  "orig_nbformat": 4,
  "vscode": {
   "interpreter": {
    "hash": "0650c0f217e10720e4bf7be691c6745308372cccadf60d207cb77e2b1e689b1b"
   }
  }
 },
 "nbformat": 4,
 "nbformat_minor": 2
}

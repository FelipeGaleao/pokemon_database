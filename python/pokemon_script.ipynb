{
 "cells": [
  {
   "cell_type": "code",
   "execution_count": 1,
   "id": "79a33b8b",
   "metadata": {
    "scrolled": false
   },
   "outputs": [
    {
     "name": "stdout",
     "output_type": "stream",
     "text": [
      "Requirement already satisfied: pokebase in c:\\users\\cs342370\\.conda\\envs\\bdgd\\lib\\site-packages (1.3.0)\n",
      "Requirement already satisfied: requests in c:\\users\\cs342370\\.conda\\envs\\bdgd\\lib\\site-packages (from pokebase) (2.27.0)\n",
      "Requirement already satisfied: charset-normalizer~=2.0.0 in c:\\users\\cs342370\\.conda\\envs\\bdgd\\lib\\site-packages (from requests->pokebase) (2.0.10)\n",
      "Requirement already satisfied: certifi>=2017.4.17 in c:\\users\\cs342370\\.conda\\envs\\bdgd\\lib\\site-packages (from requests->pokebase) (2022.6.15)\n",
      "Requirement already satisfied: idna<4,>=2.5 in c:\\users\\cs342370\\.conda\\envs\\bdgd\\lib\\site-packages (from requests->pokebase) (3.3)\n",
      "Requirement already satisfied: urllib3<1.27,>=1.21.1 in c:\\users\\cs342370\\.conda\\envs\\bdgd\\lib\\site-packages (from requests->pokebase) (1.26.7)\n"
     ]
    }
   ],
   "source": [
    "!pip install pokebase"
   ]
  },
  {
   "cell_type": "code",
   "execution_count": 2,
   "id": "10a5c289",
   "metadata": {
    "scrolled": true
   },
   "outputs": [
    {
     "name": "stderr",
     "output_type": "stream",
     "text": [
      "c:\\Users\\CS342370\\.conda\\envs\\bdgd\\lib\\site-packages\\requests\\__init__.py:102: RequestsDependencyWarning: urllib3 (1.26.7) or chardet (5.0.0)/charset_normalizer (2.0.10) doesn't match a supported version!\n",
      "  warnings.warn(\"urllib3 ({}) or chardet ({})/charset_normalizer ({}) doesn't match a supported \"\n"
     ]
    },
    {
     "name": "stdout",
     "output_type": "stream",
     "text": [
      "bulbasaur\n"
     ]
    }
   ],
   "source": [
    "import pokebase as pb\n",
    "import json\n",
    "import requests\n",
    "r = requests.get(\"https://pokeapi.co/api/v2/evolution-chain/1\").text\n",
    "j = json.loads(r)\n",
    "print(j[\"chain\"][\"species\"][\"name\"])\n",
    "\n",
    "def get_evo(url):\n",
    "  req = requests.get(url).text\n",
    "  j = json.loads(req)\n",
    "  evos = [j[\"chain\"][\"species\"][\"name\"]]\n",
    "  try:\n",
    "    evos.append(j[\"chain\"][\"evolves_to\"][0][\"species\"][\"name\"])\n",
    "    evos.append(j[\"chain\"][\"evolves_to\"][0][\"evolves_to\"][0][\"species\"][\"name\"])\n",
    "  except:\n",
    "    try: evos.append(j[\"chain\"][\"evolves_to\"][0][\"species\"][\"name\"])\n",
    "    except:\n",
    "        pass\n",
    "  return list(dict.fromkeys(evos))\n",
    "    \n",
    "\n"
   ]
  },
  {
   "cell_type": "code",
   "execution_count": 3,
   "id": "ea0a6e85",
   "metadata": {},
   "outputs": [
    {
     "name": "stdout",
     "output_type": "stream",
     "text": [
      "['calyrex']\n"
     ]
    }
   ],
   "source": [
    "print(get_evo(\"https://pokeapi.co/api/v2/evolution-chain/476\")) #last evo chain"
   ]
  },
  {
   "cell_type": "code",
   "execution_count": 4,
   "metadata": {},
   "outputs": [
    {
     "ename": "SyntaxError",
     "evalue": "unexpected EOF while parsing (Temp/ipykernel_187972/1309767222.py, line 4)",
     "output_type": "error",
     "traceback": [
      "\u001b[1;36m  File \u001b[1;32m\"C:\\Users\\CS342370\\AppData\\Local\\Temp/ipykernel_187972/1309767222.py\"\u001b[1;36m, line \u001b[1;32m4\u001b[0m\n\u001b[1;33m    \u001b[0m\n\u001b[1;37m    ^\u001b[0m\n\u001b[1;31mSyntaxError\u001b[0m\u001b[1;31m:\u001b[0m unexpected EOF while parsing\n"
     ]
    }
   ],
   "source": [
    "# print(get_evo(\"https://pokeapi.co/api/v2/evolution-chain/2\"))\n",
    "evosid = []\n",
    "for pokemon in len(get_evo(\"https://pokeapi.co/api/v2/evolution-chain/1\")):\n",
    "  \n"
   ]
  },
  {
   "cell_type": "code",
   "execution_count": null,
   "id": "61e5389d",
   "metadata": {},
   "outputs": [],
   "source": [
    "import pandas as pd\n",
    "\n",
    "evos = []\n",
    "evos_df = pd.DataFrame()\n",
    "def persist_evo(array):\n",
    "  for index in :\n",
    "    \n",
    "  return pd.DataFrame(evos, columns=[\"ndex_atual\",\"ndex_evolucao\"])"
   ]
  },
  {
   "cell_type": "code",
   "execution_count": null,
   "id": "d399fadb",
   "metadata": {},
   "outputs": [],
   "source": [
    "print(persist_evo(\"https://pokeapi.co/api/v2/evolution-chain/1\"))"
   ]
  },
  {
   "cell_type": "code",
   "execution_count": null,
   "id": "1dc76aaa",
   "metadata": {},
   "outputs": [],
   "source": [
    "import pokebase as pb\n",
    "\n",
    "# Print all moves of the type named here.\n",
    "TYPE = 'normal'\n",
    "\n",
    "# Get a list of EVERY move from the API.\n",
    "all_moves = pb.APIResourceList('move')\n",
    "\n",
    "# Bad method. Don't actually do this.\n",
    "for move_data in all_moves:\n",
    "    # Get API data for this move.\n",
    "    move = pb.move(move_data['name'])\n",
    "\n",
    "    # Print its name, if its type matches.\n",
    "    if move.type.name == TYPE:\n",
    "        print(move.name)\n",
    "\n",
    "# Good method.\n",
    "# Get API data associated with the type we want.\n",
    "type_moves = pb.type_(TYPE).moves\n",
    "\n",
    "# Iterate & print.\n",
    "for move in type_moves:\n",
    "    print(move.name)"
   ]
  },
  {
   "cell_type": "code",
   "execution_count": null,
   "id": "715139a8",
   "metadata": {},
   "outputs": [],
   "source": [
    "charmander = pb.pokemon('Charmander')  # Quick lookup.\n",
    "charmander.id\n",
    "\n",
    "# pokemon = pb.pokemon(\"chamander\")\n",
    "\n",
    "#print(pokemon.name)#nome\n",
    "#print(pokemon.height)#altura\n",
    "#print(pokemon.weight)#peso\n",
    "#print(pokemon.id)#id\n",
    "#print(pokemon.stats[0].base_stat) #hp\n",
    "#print(pokemon.stats[1].base_stat) #ataque\n",
    "#print(pokemon.stats[2].base_stat)#defesa\n",
    "#print(pokemon.stats[3].base_stat)#ataque especial\n",
    "#print(pokemon.stats[4].base_stat)#defesa especial\n",
    "#print(pokemon.stats[5].base_stat)#velocidade\n",
    "\n",
    "# print(pokemon.id)\n",
    "#evo.chain.evolves_to.species\n",
    "#for move in pokemon.moves:\n",
    "#    print(move.move.name)  \n"
   ]
  },
  {
   "cell_type": "code",
   "execution_count": null,
   "id": "aa550e60",
   "metadata": {},
   "outputs": [],
   "source": [
    "import pandas as pd\n",
    "\n",
    "pokemons = []\n",
    "pokemon_df = pd.DataFrame()\n",
    "moves_df = pd.DataFrame()\n",
    "for i in range(1, 5):\n",
    "    pokemon = pb.pokemon(i)\n",
    "    index = 0\n",
    "    pokemon_habilidades = []\n",
    "    pokemon_habilidades_dano = []\n",
    "    for move in pokemon.moves:\n",
    "        if index < 3:\n",
    "            if(move.move.power != None):\n",
    "                pokemon_habilidades.append(move.move.name)\n",
    "                pokemon_habilidades_dano.append(move.move.power)\n",
    "                index += 1\n",
    "            \n",
    "        else:\n",
    "            break\n",
    "    try:\n",
    "        pokemons.append([pokemon.name, pokemon.height, pokemon.weight, pokemon.id, pokemon.stats[0].base_stat,\n",
    "            pokemon.stats[1].base_stat, pokemon.stats[2].base_stat, pokemon.stats[3].base_stat, \n",
    "            pokemon.stats[4].base_stat, pokemon.stats[5].base_stat, pokemon.types[0].type, pokemon.types[1].type])\n",
    "    except: \\\n",
    "        pass\n",
    "\n",
    "pokemon_df = pd.DataFrame(pokemons, columns=['nome', 'altura', 'peso', 'id', 'hp', 'ataque', 'defesa', 'ataque_especial', 'defesa_especial', 'velocidade', 'tipo1', 'tipo2'])\n",
    "\n",
    "    \n",
    "pokemon_df"
   ]
  },
  {
   "cell_type": "code",
   "execution_count": 15,
   "id": "ea7c46bd",
   "metadata": {},
   "outputs": [],
   "source": [
    "import pandas as pd\n",
    "\n",
    "pokemons = []\n",
    "pokemon_df = pd.DataFrame()\n",
    "moves = []\n",
    "moves_df = pd.DataFrame()\n",
    "pokemon_moves = []\n",
    "pokemon_moves_df = pd.DataFrame()\n",
    "pokemon_instance = []\n",
    "pokemon_instance_df = pd.DataFrame()\n",
    "\n",
    "index = 0\n",
    "instance = 1\n",
    "for i in range(1,158):\n",
    "    pokemon = pb.pokemon(i)\n",
    "\n",
    "    for k in range(1,101):\n",
    "        pokemon_instance.append([i,instance])\n",
    "        instance += 1\n",
    "        \n",
    "        \n",
    "    for move in pokemon.moves:\n",
    "        if(move.move.power!=None):\n",
    "            moves.append([index,move.move.name,move.move.effect_entries[0].effect,move.move.power])\n",
    "            pokemon_moves.append([pokemon.id,index])\n",
    "            index += 1\n",
    "            if(index % 4 == 0):\n",
    "                break\n",
    "\n",
    "    try:\n",
    "        pokemons.append([pokemon.name, pokemon.height, pokemon.weight, pokemon.id, pokemon.stats[0].base_stat,\n",
    "            pokemon.stats[1].base_stat, pokemon.stats[2].base_stat, pokemon.stats[3].base_stat, \n",
    "            pokemon.stats[4].base_stat, pokemon.stats[5].base_stat, pokemon.types[0].type, pokemon.types[1].type])\n",
    "    except: \\\n",
    "        pass\n",
    "\n",
    "pokemon_df = pd.DataFrame(pokemons, columns=['nome', 'altura', 'peso', 'id', 'hp', 'ataque', 'defesa', 'ataque_especial', 'defesa_especial', 'velocidade', 'tipo1', 'tipo2'])\n",
    "\n",
    "    \n",
    "moves_df = pd.DataFrame(moves, columns=['id','nome','descricao','dano'])\n",
    "\n",
    "pokemon_moves_df = pd.DataFrame(pokemon_moves, columns=['fk_pokemon_id', 'fk_habilidade'])\n",
    "\n",
    "pokemon_instance_df = pd.DataFrame(pokemon_instance,columns=['fk_pokemon_id','id_instance'])\n",
    "\n",
    "\n"
   ]
  },
  {
   "cell_type": "code",
   "execution_count": 20,
   "id": "c1297f15",
   "metadata": {},
   "outputs": [],
   "source": [
    "pokemon_df = pokemon_df.rename(columns={'id': 'id_pokemon', 'tipo1': 'tipo_1', 'tipo2': 'tipo_2'})\n",
    "pokemon_df['numero_pokedex'] = pokemon_df.id_pokemon\n",
    "pokemon_df.to_csv('../output_data/pokemon.csv')"
   ]
  },
  {
   "cell_type": "code",
   "execution_count": null,
   "id": "d71fa808",
   "metadata": {},
   "outputs": [],
   "source": [
    "moves_df"
   ]
  },
  {
   "cell_type": "code",
   "execution_count": null,
   "id": "0a6bde44",
   "metadata": {},
   "outputs": [],
   "source": [
    "pokemon_moves_df"
   ]
  },
  {
   "cell_type": "code",
   "execution_count": null,
   "id": "d0453185",
   "metadata": {},
   "outputs": [],
   "source": [
    "pokemon_instance_df\n"
   ]
  }
 ],
 "metadata": {
  "kernelspec": {
   "display_name": "Python 3.8.12 ('bdgd')",
   "language": "python",
   "name": "python3"
  },
  "language_info": {
   "codemirror_mode": {
    "name": "ipython",
    "version": 3
   },
   "file_extension": ".py",
   "mimetype": "text/x-python",
   "name": "python",
   "nbconvert_exporter": "python",
   "pygments_lexer": "ipython3",
   "version": "3.8.12"
  },
  "vscode": {
   "interpreter": {
    "hash": "1132fa133f11760a0b7447f113394b2ac39a9f5e24667e342cf1efea777769e2"
   }
  }
 },
 "nbformat": 4,
 "nbformat_minor": 5
}

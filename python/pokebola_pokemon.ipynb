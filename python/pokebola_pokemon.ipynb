{
 "cells": [
  {
   "cell_type": "code",
   "execution_count": 1,
   "metadata": {},
   "outputs": [],
   "source": [
    "#id pokebola, id instancia, id treinador\n",
    "import pandas as pd\n",
    "pokebola = []\n",
    "pokebola_df = pd.DataFrame()\n",
    "array = ['normal','great ball','ultra ball','master ball']\n",
    "for i in range(129):\n",
    "  for k in range(4):\n",
    "    pokebola.append([i,array[k]])\n",
    "pokebola_df = pd.DataFrame(pokebola,columns=['fk_treinador_id','nivel_de_forca']).to_csv('../output_data/pokebola_atualizada.csv')"
   ]
  },
  {
   "cell_type": "code",
   "execution_count": 4,
   "metadata": {},
   "outputs": [],
   "source": [
    "pokebola_df"
   ]
  }
 ],
 "metadata": {
  "kernelspec": {
   "display_name": "Python 3.9.13 ('base')",
   "language": "python",
   "name": "python3"
  },
  "language_info": {
   "codemirror_mode": {
    "name": "ipython",
    "version": 3
   },
   "file_extension": ".py",
   "mimetype": "text/x-python",
   "name": "python",
   "nbconvert_exporter": "python",
   "pygments_lexer": "ipython3",
   "version": "3.9.13"
  },
  "orig_nbformat": 4,
  "vscode": {
   "interpreter": {
    "hash": "0650c0f217e10720e4bf7be691c6745308372cccadf60d207cb77e2b1e689b1b"
   }
  }
 },
 "nbformat": 4,
 "nbformat_minor": 2
}

{
 "cells": [
  {
   "cell_type": "code",
   "execution_count": 18,
   "metadata": {},
   "outputs": [],
   "source": [
    "import pandas as pd\n",
    "\n",
    "df_habilidade = pd.read_csv('../output_data/pokebola.csv', sep=',').drop(columns=['Unnamed: 0']).reset_index(drop=True)\n",
    "df_habilidade.to_csv('../output_data/tabela_pokebola2.csv', sep=',', index=False)"
   ]
  }
 ],
 "metadata": {
  "kernelspec": {
   "display_name": "Python 3.8.12 ('bdgd')",
   "language": "python",
   "name": "python3"
  },
  "language_info": {
   "codemirror_mode": {
    "name": "ipython",
    "version": 3
   },
   "file_extension": ".py",
   "mimetype": "text/x-python",
   "name": "python",
   "nbconvert_exporter": "python",
   "pygments_lexer": "ipython3",
   "version": "3.8.12"
  },
  "orig_nbformat": 4,
  "vscode": {
   "interpreter": {
    "hash": "1132fa133f11760a0b7447f113394b2ac39a9f5e24667e342cf1efea777769e2"
   }
  }
 },
 "nbformat": 4,
 "nbformat_minor": 2
}
